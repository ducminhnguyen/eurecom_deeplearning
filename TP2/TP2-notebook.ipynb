{
 "cells": [
  {
   "cell_type": "markdown",
   "metadata": {
    "deletable": true,
    "editable": true
   },
   "source": [
    "<h1 style=\"text-align:center\">Deep Learning   </h1>\n",
    "<h1 style=\"text-align:center\"> Lab Session 2 - 3 Hours </h1>\n",
    "<h1 style=\"text-align:center\"> Convolutional Neural Network (CNN) for Handwritten Digits Recognition</h1>"
   ]
  },
  {
   "cell_type": "markdown",
   "metadata": {
    "deletable": true,
    "editable": true
   },
   "source": [
    "<b> Student 1:</b> THAN Thanh An  \n",
    "<b> Student 2:</b> NGUYEN Minh Duc\n",
    " \n",
    " \n",
    "The aim of this session is to practice with Convolutional Neural Networks. Answers and experiments should be made by groups of one or two students. Each group should fill and run appropriate notebook cells. \n",
    "\n",
    "\n",
    "Once you have completed all of the code implementations and successfully answered each question above, you may finalize your work by exporting the iPython Notebook as an pdf document using print as PDF (Ctrl+P). Do not forget to run all your cells before generating your final report and do not forget to include the names of all participants in the group. The lab session should be completed by May 29th 2017.\n",
    "\n",
    "Send you pdf file to benoit.huet@eurecom.fr and olfa.ben-ahmed@eurecom.fr using **[DeepLearning_lab2]** as Subject of your email."
   ]
  },
  {
   "cell_type": "markdown",
   "metadata": {
    "deletable": true,
    "editable": true
   },
   "source": [
    "# Introduction"
   ]
  },
  {
   "cell_type": "markdown",
   "metadata": {
    "deletable": true,
    "editable": true
   },
   "source": [
    "In the last Lab Session, you built a Multilayer Perceptron for recognizing hand-written digits from the MNIST data-set. The best achieved accuracy on testing data was about 97%.  Can  you do better than these results using a deep CNN ?\n",
    "In this Lab Session, you will build, train and optimize in TensorFlow one of the early Convolutional Neural Networks:  **LeNet-5** to go to  more than 99% of accuracy. \n",
    "\n",
    "\n",
    "\n",
    "\n"
   ]
  },
  {
   "cell_type": "markdown",
   "metadata": {
    "deletable": true,
    "editable": true
   },
   "source": [
    "# Load MNIST Data in TensorFlow\n",
    "Run the cell above to load the MNIST data that comes  with TensorFlow. You will use this data in **Section 1** and **Section 2**."
   ]
  },
  {
   "cell_type": "code",
   "execution_count": 1,
   "metadata": {
    "collapsed": false,
    "deletable": true,
    "editable": true
   },
   "outputs": [
    {
     "name": "stdout",
     "output_type": "stream",
     "text": [
      "Extracting MNIST_data/train-images-idx3-ubyte.gz\n",
      "Extracting MNIST_data/train-labels-idx1-ubyte.gz\n",
      "Extracting MNIST_data/t10k-images-idx3-ubyte.gz\n",
      "Extracting MNIST_data/t10k-labels-idx1-ubyte.gz\n",
      "Image Shape: (784,)\n",
      "Training Set:   55000 samples\n",
      "Validation Set: 5000 samples\n",
      "Test Set:       10000 samples\n"
     ]
    }
   ],
   "source": [
    "import tensorflow as tf\n",
    "from tensorflow.examples.tutorials.mnist import input_data\n",
    "\n",
    "mnist = input_data.read_data_sets(\"MNIST_data/\", one_hot=True)\n",
    "X_train, y_train           = mnist.train.images, mnist.train.labels\n",
    "X_validation, y_validation = mnist.validation.images, mnist.validation.labels\n",
    "X_test, y_test             = mnist.test.images, mnist.test.labels\n",
    "\n",
    "print(\"Image Shape: {}\".format(X_train[0].shape))\n",
    "print(\"Training Set:   {} samples\".format(len(X_train)))\n",
    "print(\"Validation Set: {} samples\".format(len(X_validation)))\n",
    "print(\"Test Set:       {} samples\".format(len(X_test)))"
   ]
  },
  {
   "cell_type": "markdown",
   "metadata": {
    "deletable": true,
    "editable": true
   },
   "source": [
    "# Section 1 : My First Model in TensorFlow"
   ]
  },
  {
   "cell_type": "markdown",
   "metadata": {
    "collapsed": true,
    "deletable": true,
    "editable": true
   },
   "source": [
    "Before starting with CNN, let's train and test in TensorFlow the example :\n",
    "**y=softmax(Wx+b)** seen in the DeepLearing course last week. \n",
    "\n",
    "This model reaches an accuracy of about 92 %.\n",
    "You will also learn how to launch the tensorBoard https://www.tensorflow.org/get_started/summaries_and_tensorboard to  visualize the computation graph, statistics and learning curves. "
   ]
  },
  {
   "cell_type": "markdown",
   "metadata": {
    "deletable": true,
    "editable": true
   },
   "source": [
    "<b> Part 1 </b> : Read carefully the code in the cell below. Run it to perform training. "
   ]
  },
  {
   "cell_type": "code",
   "execution_count": 2,
   "metadata": {
    "collapsed": false,
    "deletable": true,
    "editable": true
   },
   "outputs": [
    {
     "name": "stdout",
     "output_type": "stream",
     "text": [
      "Epoch:  01   =====> Loss= 2.281444597\n",
      "Epoch:  02   =====> Loss= 2.229430199\n",
      "Epoch:  03   =====> Loss= 2.179733610\n",
      "Epoch:  04   =====> Loss= 2.132062387\n",
      "Epoch:  05   =====> Loss= 2.086399126\n",
      "Epoch:  06   =====> Loss= 2.042266178\n",
      "Epoch:  07   =====> Loss= 1.999297953\n",
      "Epoch:  08   =====> Loss= 1.958605456\n",
      "Epoch:  09   =====> Loss= 1.919204998\n",
      "Epoch:  10   =====> Loss= 1.881934905\n",
      "Epoch:  11   =====> Loss= 1.844592929\n",
      "Epoch:  12   =====> Loss= 1.809497356\n",
      "Epoch:  13   =====> Loss= 1.775510406\n",
      "Epoch:  14   =====> Loss= 1.742494106\n",
      "Epoch:  15   =====> Loss= 1.711519384\n",
      "Epoch:  16   =====> Loss= 1.680916739\n",
      "Epoch:  17   =====> Loss= 1.652868390\n",
      "Epoch:  18   =====> Loss= 1.624090815\n",
      "Epoch:  19   =====> Loss= 1.596414638\n",
      "Epoch:  20   =====> Loss= 1.569908214\n",
      "Epoch:  21   =====> Loss= 1.545104074\n",
      "Epoch:  22   =====> Loss= 1.522130179\n",
      "Epoch:  23   =====> Loss= 1.498071003\n",
      "Epoch:  24   =====> Loss= 1.476168418\n",
      "Epoch:  25   =====> Loss= 1.453928041\n",
      "Epoch:  26   =====> Loss= 1.432838893\n",
      "Epoch:  27   =====> Loss= 1.412847590\n",
      "Epoch:  28   =====> Loss= 1.393792963\n",
      "Epoch:  29   =====> Loss= 1.373756194\n",
      "Epoch:  30   =====> Loss= 1.356125402\n",
      "Epoch:  31   =====> Loss= 1.338076568\n",
      "Epoch:  32   =====> Loss= 1.321931577\n",
      "Epoch:  33   =====> Loss= 1.303276753\n",
      "Epoch:  34   =====> Loss= 1.288472319\n",
      "Epoch:  35   =====> Loss= 1.272253036\n",
      "Epoch:  36   =====> Loss= 1.258300662\n",
      "Epoch:  37   =====> Loss= 1.243888187\n",
      "Epoch:  38   =====> Loss= 1.230394268\n",
      "Epoch:  39   =====> Loss= 1.216255546\n",
      "Epoch:  40   =====> Loss= 1.202849865\n",
      "Epoch:  41   =====> Loss= 1.189921880\n",
      "Epoch:  42   =====> Loss= 1.177939320\n",
      "Epoch:  43   =====> Loss= 1.167502642\n",
      "Epoch:  44   =====> Loss= 1.155287790\n",
      "Epoch:  45   =====> Loss= 1.142962837\n",
      "Epoch:  46   =====> Loss= 1.133818865\n",
      "Epoch:  47   =====> Loss= 1.122161317\n",
      "Epoch:  48   =====> Loss= 1.111836290\n",
      "Epoch:  49   =====> Loss= 1.101030517\n",
      "Epoch:  50   =====> Loss= 1.091049600\n",
      "Epoch:  51   =====> Loss= 1.080644822\n",
      "Epoch:  52   =====> Loss= 1.070801330\n",
      "Epoch:  53   =====> Loss= 1.064041853\n",
      "Epoch:  54   =====> Loss= 1.054335928\n",
      "Epoch:  55   =====> Loss= 1.044709110\n",
      "Epoch:  56   =====> Loss= 1.038246059\n",
      "Epoch:  57   =====> Loss= 1.029135680\n",
      "Epoch:  58   =====> Loss= 1.020601439\n",
      "Epoch:  59   =====> Loss= 1.013166308\n",
      "Epoch:  60   =====> Loss= 1.005741310\n",
      "Epoch:  61   =====> Loss= 0.997515345\n",
      "Epoch:  62   =====> Loss= 0.989891255\n",
      "Epoch:  63   =====> Loss= 0.984211004\n",
      "Epoch:  64   =====> Loss= 0.975396430\n",
      "Epoch:  65   =====> Loss= 0.970343113\n",
      "Epoch:  66   =====> Loss= 0.964370632\n",
      "Epoch:  67   =====> Loss= 0.956870902\n",
      "Epoch:  68   =====> Loss= 0.950960600\n",
      "Epoch:  69   =====> Loss= 0.944080853\n",
      "Epoch:  70   =====> Loss= 0.938812149\n",
      "Epoch:  71   =====> Loss= 0.934145010\n",
      "Epoch:  72   =====> Loss= 0.926689434\n",
      "Epoch:  73   =====> Loss= 0.921355832\n",
      "Epoch:  74   =====> Loss= 0.915849364\n",
      "Epoch:  75   =====> Loss= 0.909962666\n",
      "Epoch:  76   =====> Loss= 0.903241420\n",
      "Epoch:  77   =====> Loss= 0.900187540\n",
      "Epoch:  78   =====> Loss= 0.894807947\n",
      "Epoch:  79   =====> Loss= 0.890662372\n",
      "Epoch:  80   =====> Loss= 0.886234140\n",
      "Epoch:  81   =====> Loss= 0.879927254\n",
      "Epoch:  82   =====> Loss= 0.875048840\n",
      "Epoch:  83   =====> Loss= 0.872208095\n",
      "Epoch:  84   =====> Loss= 0.865784752\n",
      "Epoch:  85   =====> Loss= 0.862360907\n",
      "Epoch:  86   =====> Loss= 0.857314134\n",
      "Epoch:  87   =====> Loss= 0.852557778\n",
      "Epoch:  88   =====> Loss= 0.849093258\n",
      "Epoch:  89   =====> Loss= 0.844559908\n",
      "Epoch:  90   =====> Loss= 0.842405951\n",
      "Epoch:  91   =====> Loss= 0.836764979\n",
      "Epoch:  92   =====> Loss= 0.832512188\n",
      "Epoch:  93   =====> Loss= 0.829375160\n",
      "Epoch:  94   =====> Loss= 0.825072765\n",
      "Epoch:  95   =====> Loss= 0.821623051\n",
      "Epoch:  96   =====> Loss= 0.817424405\n",
      "Epoch:  97   =====> Loss= 0.813314581\n",
      "Epoch:  98   =====> Loss= 0.811318135\n",
      "Epoch:  99   =====> Loss= 0.808147621\n",
      "Epoch:  100   =====> Loss= 0.804041159\n",
      "Optimization Finished!\n",
      "Accuracy: 0.8508\n"
     ]
    }
   ],
   "source": [
    "from __future__ import print_function\n",
    "import tensorflow as tf\n",
    "\n",
    "\n",
    "#STEP 1\n",
    "\n",
    "# Parameters\n",
    "learning_rate = 0.01\n",
    "training_epochs = 100\n",
    "batch_size = 10000\n",
    "display_step = 1\n",
    "logs_path = 'log_files/'  # useful for tensorboard\n",
    "\n",
    "# tf Graph Input:  mnist data image of shape 28*28=784\n",
    "x = tf.placeholder(tf.float32, [None, 784], name='InputData')\n",
    "# 0-9 digits recognition,  10 classes\n",
    "y = tf.placeholder(tf.float32, [None, 10], name='LabelData')\n",
    "\n",
    "# Set model weights\n",
    "W = tf.Variable(tf.zeros([784, 10]), name='Weights')\n",
    "b = tf.Variable(tf.zeros([10]), name='Bias')\n",
    "\n",
    "# Construct model and encapsulating all ops into scopes, making Tensorboard's Graph visualization more convenient\n",
    "with tf.name_scope('Model'):\n",
    "    # Model\n",
    "    pred = tf.nn.softmax(tf.matmul(x, W) + b) # Softmax\n",
    "with tf.name_scope('Loss'):\n",
    "    # Minimize error using cross entropy\n",
    "    cost = tf.reduce_mean(-tf.reduce_sum(y*tf.log(pred), reduction_indices=1))\n",
    "with tf.name_scope('SGD'):\n",
    "    # Gradient Descent\n",
    "    optimizer = tf.train.GradientDescentOptimizer(learning_rate).minimize(cost)\n",
    "with tf.name_scope('Accuracy'):\n",
    "    # Accuracy\n",
    "    acc = tf.equal(tf.argmax(pred, 1), tf.argmax(y, 1))\n",
    "    acc = tf.reduce_mean(tf.cast(acc, tf.float32))\n",
    "\n",
    "# Initializing the variables\n",
    "init = tf.global_variables_initializer()\n",
    "# Create a summary to monitor cost tensor\n",
    "tf.summary.scalar(\"Loss\", cost)\n",
    "# Create a summary to monitor accuracy tensor\n",
    "tf.summary.scalar(\"Accuracy\", acc)\n",
    "# Merge all summaries into a single op\n",
    "merged_summary_op = tf.summary.merge_all()\n",
    "\n",
    "\n",
    "#STEP 2 \n",
    "\n",
    "\n",
    "# Launch the graph for training\n",
    "with tf.Session() as sess:\n",
    "    sess.run(init)\n",
    "    # op to write logs to Tensorboard\n",
    "    summary_writer = tf.summary.FileWriter(logs_path, graph=tf.get_default_graph())\n",
    "    # Training cycle\n",
    "    for epoch in range(training_epochs):\n",
    "        avg_cost = 0.\n",
    "        total_batch = int(mnist.train.num_examples/batch_size)\n",
    "        # Loop over all batches\n",
    "        for i in range(total_batch):\n",
    "            batch_xs, batch_ys = mnist.train.next_batch(batch_size)\n",
    "            # Run optimization op (backprop), cost op (to get loss value)\n",
    "            # and summary nodes\n",
    "#             print(type(batch_xs))\n",
    "            _, c, summary = sess.run([optimizer, cost, merged_summary_op],\n",
    "                                     feed_dict={x: batch_xs, y: batch_ys})\n",
    "            # Write logs at every iteration\n",
    "            summary_writer.add_summary(summary, epoch * total_batch + i)\n",
    "            # Compute average loss\n",
    "            avg_cost += c / total_batch\n",
    "        # Display logs per epoch step\n",
    "        if (epoch+1) % display_step == 0:\n",
    "            print(\"Epoch: \", '%02d' % (epoch+1), \"  =====> Loss=\", \"{:.9f}\".format(avg_cost))\n",
    "\n",
    "    print(\"Optimization Finished!\")\n",
    "\n",
    "    # Test model\n",
    "    # Calculate accuracy\n",
    "    print(\"Accuracy:\", acc.eval({x: mnist.test.images, y: mnist.test.labels}))\n",
    "\n",
    "\n"
   ]
  },
  {
   "cell_type": "markdown",
   "metadata": {
    "deletable": true,
    "editable": true
   },
   "source": [
    "<b> Part 2  </b>: Using Tensorboard, we can  now visualize the created graph, giving you an overview of your architecture and how all of the major components  are connected. You can also see and analyse the learning curves. \n",
    "\n",
    "To launch tensorBoard: \n",
    "- Go to the **TP2** folder, \n",
    "- Open a Terminal and run the command line **\"tensorboard --logdir= log_files/\"**, it will generate an http link ,ex http://666.6.6.6:6006,\n",
    "- Copy this  link into your web browser \n",
    "\n",
    "\n",
    "Enjoy It !! \n"
   ]
  },
  {
   "cell_type": "markdown",
   "metadata": {
    "deletable": true,
    "editable": true
   },
   "source": [
    "# Section 2 : The 99% MNIST Challenge !"
   ]
  },
  {
   "cell_type": "markdown",
   "metadata": {
    "deletable": true,
    "editable": true
   },
   "source": [
    "<b> Part 1 </b> : LeNet5 implementation"
   ]
  },
  {
   "cell_type": "markdown",
   "metadata": {
    "deletable": true,
    "editable": true
   },
   "source": [
    "One you are now familar with **tensorFlow** and **tensorBoard**, you are in this section to build, train and test the baseline [LeNet-5](http://yann.lecun.com/exdb/lenet/)  model for the MNIST digits recognition problem.  \n",
    "\n",
    "In more advanced step you will make some optimizations to get more than 99% of accuracy. The best model can get to over 99.7% accuracy! \n",
    "\n",
    "For more information, have a look at this list of results : http://rodrigob.github.io/are_we_there_yet/build/classification_datasets_results.html"
   ]
  },
  {
   "cell_type": "markdown",
   "metadata": {
    "deletable": true,
    "editable": true
   },
   "source": [
    "\n",
    "<img src=\"lenet.png\",width=\"800\" height=\"600\" align=\"center\">\n",
    "<center><span>Figure 1: Lenet 5 </span></center>\n",
    "\n",
    "\n",
    "\n",
    "\n",
    "\n",
    "The LeNet architecture accepts a 32x32xC image as input, where C is the number of color channels. Since MNIST images are grayscale, C is 1 in this case.\n",
    "\n",
    "--------------------------\n",
    "**Layer 1: Convolutional.** The output shape should be 28x28x6 **Activation.** sigmoid **Pooling.** The output shape should be 14x14x6.\n",
    "\n",
    "**Layer 2: Convolutional.** The output shape should be 10x10x16. **Activation.** sigmoid **Pooling.** The output shape should be 5x5x16.\n",
    "\n",
    "**Flatten.** Flatten the output shape of the final pooling layer such that it's 1D instead of 3D.  You may need to use **flatten*  from tensorflow.contrib.layers import flatten\n",
    "\n",
    "**Layer 3: Fully Connected.** This should have 120 outputs. **Activation.** sigmoid\n",
    "\n",
    "**Layer 4: Fully Connected.** This should have 84 outputs. **Activation.** sigmoid\n",
    "\n",
    "**Layer 5: Fully Connected.** This should have 10 outputs. **Activation.** softmax\n"
   ]
  },
  {
   "cell_type": "markdown",
   "metadata": {
    "deletable": true,
    "editable": true
   },
   "source": [
    "<b> Question 2.1.1 </b>  Implement the Neural Network architecture described above.\n",
    "For that, your will use classes and functions from  https://www.tensorflow.org/api_docs/python/tf/nn. \n",
    "\n",
    "We give you some helper functions for weigths and bias initilization. Also you can refer to section 1. \n"
   ]
  },
  {
   "cell_type": "code",
   "execution_count": 3,
   "metadata": {
    "collapsed": false,
    "deletable": true,
    "editable": true
   },
   "outputs": [],
   "source": [
    "import numpy as np"
   ]
  },
  {
   "cell_type": "code",
   "execution_count": 4,
   "metadata": {
    "collapsed": false,
    "deletable": true,
    "editable": true
   },
   "outputs": [],
   "source": [
    "#Helper functions  for weigths and bias initilization \n",
    "\n",
    "def weight_variable(shape):\n",
    "  initial = tf.truncated_normal(shape, mean=0, stddev=0.1)\n",
    "  return tf.Variable(initial)\n",
    "\n",
    "def bias_variable(shape):\n",
    "  initial = tf.constant(0.01, shape=shape)\n",
    "  return tf.Variable(initial)\n",
    "\n",
    "def conv2d(x, W):\n",
    "    return tf.nn.conv2d(x, W, strides=[1, 1, 1, 1], padding='VALID')\n",
    "\n",
    "def max_pool_2x2(x):\n",
    "    return tf.nn.max_pool(x, ksize=[1, 2, 2, 1],\n",
    "                        strides=[1, 2, 2, 1], padding='VALID')\n",
    "\n"
   ]
  },
  {
   "cell_type": "code",
   "execution_count": 17,
   "metadata": {
    "collapsed": false,
    "deletable": true,
    "editable": true
   },
   "outputs": [],
   "source": [
    "from tensorflow.contrib.layers import flatten\n",
    "\n",
    "def LeNet5_Model(x):    \n",
    "    # Hyperparameters\n",
    "    mu = 0\n",
    "    sigma = 0.1\n",
    "    \n",
    "    # SOLUTION: Layer 1: Convolutional. Input = 32x32x1. Output = 28x28x6.\n",
    "    conv1_W = tf.Variable(tf.truncated_normal(shape=(5, 5, 1, 6), mean = mu, stddev = sigma))\n",
    "    conv1_b = bias_variable([6])\n",
    "    conv1_pre   = tf.nn.conv2d(x, conv1_W, strides=[1, 1, 1, 1], padding='VALID') + conv1_b\n",
    "\n",
    "    # SOLUTION: Activation.\n",
    "    conv1_ac = tf.nn.sigmoid(conv1_pre)\n",
    "\n",
    "    # SOLUTION: Pooling. Input = 28x28x6. Output = 14x14x6.\n",
    "    conv1 = tf.nn.max_pool(conv1_ac, ksize=[1, 2, 2, 1], strides=[1, 2, 2, 1], padding='VALID')\n",
    "\n",
    "    # SOLUTION: Layer 2: Convolutional. Output = 10x10x16.\n",
    "    conv2_W = tf.Variable(tf.truncated_normal(shape=(5, 5, 6, 16), mean = mu, stddev = sigma))\n",
    "    conv2_b = bias_variable([16])\n",
    "    conv2_pre   = tf.nn.conv2d(conv1, conv2_W, strides=[1, 1, 1, 1], padding='VALID') + conv2_b\n",
    "    \n",
    "    # SOLUTION: Activation.\n",
    "    conv2_ac = tf.nn.sigmoid(conv2_pre)\n",
    "\n",
    "    # SOLUTION: Pooling. Input = 10x10x16. Output = 5x5x16.\n",
    "    conv2 = tf.nn.max_pool(conv2_ac, ksize=[1, 2, 2, 1], strides=[1, 2, 2, 1], padding='VALID')\n",
    "\n",
    "    # SOLUTION: Flatten. Input = 5x5x16. Output = 400.\n",
    "    fc0   = flatten(conv2)\n",
    "    \n",
    "    # SOLUTION: Layer 3: Fully Connected. Input = 400. Output = 120.\n",
    "    fc1_W = tf.Variable(tf.truncated_normal(shape=(400, 120), mean = mu, stddev = sigma))\n",
    "    fc1_b = tf.Variable(tf.zeros(120))\n",
    "    fc1_pre   = tf.matmul(fc0, fc1_W) + fc1_b\n",
    "    \n",
    "    # SOLUTION: Activation.\n",
    "    fc1   = tf.nn.sigmoid(fc1_pre)\n",
    "\n",
    "    # SOLUTION: Layer 4: Fully Connected. Input = 120. Output = 84.\n",
    "    fc2_W  = tf.Variable(tf.truncated_normal(shape=(120, 84), mean = mu, stddev = sigma))\n",
    "    fc2_b  = bias_variable([84])\n",
    "    fc2_pre    = tf.matmul(fc1, fc2_W) + fc2_b\n",
    "    \n",
    "    # SOLUTION: Activation.\n",
    "    fc2    = tf.nn.sigmoid(fc2_pre)\n",
    "\n",
    "    # SOLUTION: Layer 5: Fully Connected. Input = 84. Output = 10.\n",
    "    fc3_W  = tf.Variable(tf.truncated_normal(shape=(84, 10), mean = mu, stddev = sigma))\n",
    "    fc3_b  = bias_variable([10])\n",
    "    fc3_pre = tf.matmul(fc2, fc3_W) + fc3_b\n",
    "    \n",
    "    \n",
    "    logits = fc3_pre\n",
    "    return logits"
   ]
  },
  {
   "cell_type": "markdown",
   "metadata": {
    "deletable": true,
    "editable": true
   },
   "source": [
    "<b> Question 2.1.2. </b>  Calculate the number of parameters of this model "
   ]
  },
  {
   "cell_type": "markdown",
   "metadata": {
    "collapsed": true,
    "deletable": true,
    "editable": true
   },
   "source": [
    "The number of parameter of the model is the number of connection in the neural network. However, this neural network have convolution layers which has weight sharing mechanism so the true number of parameter is much lower than a fully connected neural network."
   ]
  },
  {
   "cell_type": "code",
   "execution_count": 100,
   "metadata": {
    "collapsed": false
   },
   "outputs": [
    {
     "name": "stdout",
     "output_type": "stream",
     "text": [
      "2105854\n"
     ]
    }
   ],
   "source": [
    "total_parameters = 0\n",
    "for variable in tf.trainable_variables():\n",
    "    # shape is an array of tf.Dimension\n",
    "    shape = variable.get_shape()\n",
    "    variable_parametes = 1\n",
    "    for dim in shape:\n",
    "        variable_parametes *= dim.value\n",
    "    total_parameters += variable_parametes\n",
    "print(total_parameters)"
   ]
  },
  {
   "cell_type": "markdown",
   "metadata": {
    "deletable": true,
    "editable": true
   },
   "source": [
    "<b> Question 2.1.3. </b>  Start the training with the parameters cited below:\n",
    "\n",
    "     Learning rate =0.1\n",
    "     Loss Fucntion : Cross entropy\n",
    "     Optimisateur: SGD\n",
    "     Number of training iterations= 10000\n",
    "     The batch size =128"
   ]
  },
  {
   "cell_type": "code",
   "execution_count": null,
   "metadata": {
    "collapsed": true
   },
   "outputs": [],
   "source": [
    "learning_rate = 0.1\n",
    "training_epochs = 10000\n",
    "batch_size = 128"
   ]
  },
  {
   "cell_type": "code",
   "execution_count": 18,
   "metadata": {
    "collapsed": false,
    "deletable": true,
    "editable": true
   },
   "outputs": [],
   "source": [
    "# Parameters\n",
    "learning_rate = 0.1\n",
    "training_epochs = 100\n",
    "batch_size = 128\n",
    "\n",
    "x = tf.placeholder(tf.float32, [None, 28, 28, 1], name='InputData')\n",
    "# 0-9 digits recognition,  10 classes\n",
    "y = tf.placeholder(tf.float32, [None, 10], name='LabelData')\n",
    "x_new = tf.map_fn(lambda x1: tf.image.pad_to_bounding_box(x1, 2, 2, 32, 32), x)\n",
    "# x_normalize = tf.divide(x_new, 255.0)\n",
    "\n",
    "# Defined model\n",
    "model = LeNet5_Model(x_new)\n",
    "\n",
    "# cost function\n",
    "cross_entropy = tf.nn.softmax_cross_entropy_with_logits(logits=model, labels=y)\n",
    "loss_operation = tf.reduce_mean(cross_entropy)\n",
    "\n",
    "# Optimization \n",
    "optimizer = tf.train.GradientDescentOptimizer(learning_rate = learning_rate)\n",
    "training_operation = optimizer.minimize(loss_operation)"
   ]
  },
  {
   "cell_type": "code",
   "execution_count": 21,
   "metadata": {
    "collapsed": false,
    "deletable": true,
    "editable": true,
    "scrolled": false
   },
   "outputs": [
    {
     "name": "stdout",
     "output_type": "stream",
     "text": [
      "Training...\n",
      "EPOCH 1 ...\n",
      "Validation Accuracy = 0.110\n",
      "EPOCH 2 ...\n",
      "Validation Accuracy = 0.113\n",
      "EPOCH 3 ...\n",
      "Validation Accuracy = 0.113\n",
      "EPOCH 4 ...\n",
      "Validation Accuracy = 0.113\n",
      "EPOCH 5 ...\n",
      "Validation Accuracy = 0.113\n",
      "EPOCH 6 ...\n",
      "Validation Accuracy = 0.098\n",
      "EPOCH 7 ...\n",
      "Validation Accuracy = 0.168\n",
      "EPOCH 8 ...\n",
      "Validation Accuracy = 0.475\n",
      "EPOCH 9 ...\n",
      "Validation Accuracy = 0.750\n",
      "EPOCH 10 ...\n",
      "Validation Accuracy = 0.838\n",
      "EPOCH 11 ...\n",
      "Validation Accuracy = 0.888\n",
      "EPOCH 12 ...\n",
      "Validation Accuracy = 0.910\n",
      "EPOCH 13 ...\n",
      "Validation Accuracy = 0.927\n",
      "EPOCH 14 ...\n",
      "Validation Accuracy = 0.935\n",
      "EPOCH 15 ...\n",
      "Validation Accuracy = 0.944\n",
      "EPOCH 16 ...\n",
      "Validation Accuracy = 0.951\n",
      "EPOCH 17 ...\n",
      "Validation Accuracy = 0.955\n",
      "EPOCH 18 ...\n",
      "Validation Accuracy = 0.957\n",
      "EPOCH 19 ...\n",
      "Validation Accuracy = 0.962\n",
      "EPOCH 20 ...\n",
      "Validation Accuracy = 0.963\n",
      "EPOCH 21 ...\n",
      "Validation Accuracy = 0.965\n",
      "EPOCH 22 ...\n",
      "Validation Accuracy = 0.966\n",
      "EPOCH 23 ...\n",
      "Validation Accuracy = 0.969\n",
      "EPOCH 24 ...\n",
      "Validation Accuracy = 0.971\n",
      "EPOCH 25 ...\n",
      "Validation Accuracy = 0.972\n",
      "EPOCH 26 ...\n",
      "Validation Accuracy = 0.974\n",
      "EPOCH 27 ...\n",
      "Validation Accuracy = 0.974\n",
      "EPOCH 28 ...\n",
      "Validation Accuracy = 0.973\n",
      "EPOCH 29 ...\n",
      "Validation Accuracy = 0.975\n",
      "EPOCH 30 ...\n",
      "Validation Accuracy = 0.976\n",
      "EPOCH 31 ...\n",
      "Validation Accuracy = 0.976\n",
      "EPOCH 32 ...\n",
      "Validation Accuracy = 0.976\n",
      "EPOCH 33 ...\n",
      "Validation Accuracy = 0.977\n",
      "EPOCH 34 ...\n",
      "Validation Accuracy = 0.977\n",
      "EPOCH 35 ...\n",
      "Validation Accuracy = 0.978\n",
      "EPOCH 36 ...\n",
      "Validation Accuracy = 0.978\n",
      "EPOCH 37 ...\n",
      "Validation Accuracy = 0.978\n",
      "EPOCH 38 ...\n",
      "Validation Accuracy = 0.979\n",
      "EPOCH 39 ...\n",
      "Validation Accuracy = 0.978\n",
      "EPOCH 40 ...\n",
      "Validation Accuracy = 0.979\n",
      "EPOCH 41 ...\n",
      "Validation Accuracy = 0.979\n",
      "EPOCH 42 ...\n",
      "Validation Accuracy = 0.980\n",
      "EPOCH 43 ...\n",
      "Validation Accuracy = 0.980\n",
      "EPOCH 44 ...\n",
      "Validation Accuracy = 0.980\n",
      "EPOCH 45 ...\n",
      "Validation Accuracy = 0.981\n",
      "EPOCH 46 ...\n",
      "Validation Accuracy = 0.981\n",
      "EPOCH 47 ...\n",
      "Validation Accuracy = 0.981\n",
      "EPOCH 48 ...\n",
      "Validation Accuracy = 0.981\n",
      "EPOCH 49 ...\n",
      "Validation Accuracy = 0.981\n",
      "EPOCH 50 ...\n",
      "Validation Accuracy = 0.982\n",
      "EPOCH 51 ...\n",
      "Validation Accuracy = 0.982\n",
      "EPOCH 52 ...\n",
      "Validation Accuracy = 0.982\n",
      "EPOCH 53 ...\n",
      "Validation Accuracy = 0.981\n",
      "EPOCH 54 ...\n",
      "Validation Accuracy = 0.982\n",
      "EPOCH 55 ...\n",
      "Validation Accuracy = 0.983\n",
      "EPOCH 56 ...\n",
      "Validation Accuracy = 0.982\n",
      "EPOCH 57 ...\n",
      "Validation Accuracy = 0.983\n",
      "EPOCH 58 ...\n",
      "Validation Accuracy = 0.984\n",
      "EPOCH 59 ...\n",
      "Validation Accuracy = 0.983\n",
      "EPOCH 60 ...\n",
      "Validation Accuracy = 0.983\n",
      "EPOCH 61 ...\n",
      "Validation Accuracy = 0.984\n",
      "EPOCH 62 ...\n",
      "Validation Accuracy = 0.983\n",
      "EPOCH 63 ...\n",
      "Validation Accuracy = 0.984\n",
      "EPOCH 64 ...\n",
      "Validation Accuracy = 0.984\n",
      "EPOCH 65 ...\n",
      "Validation Accuracy = 0.983\n",
      "EPOCH 66 ...\n",
      "Validation Accuracy = 0.985\n",
      "EPOCH 67 ...\n",
      "Validation Accuracy = 0.984\n",
      "EPOCH 68 ...\n",
      "Validation Accuracy = 0.983\n",
      "EPOCH 69 ...\n",
      "Validation Accuracy = 0.984\n",
      "EPOCH 70 ...\n",
      "Validation Accuracy = 0.985\n",
      "EPOCH 71 ...\n",
      "Validation Accuracy = 0.984\n",
      "EPOCH 72 ...\n",
      "Validation Accuracy = 0.984\n",
      "EPOCH 73 ...\n",
      "Validation Accuracy = 0.984\n",
      "EPOCH 74 ...\n",
      "Validation Accuracy = 0.985\n",
      "EPOCH 75 ...\n",
      "Validation Accuracy = 0.985\n",
      "EPOCH 76 ...\n",
      "Validation Accuracy = 0.985\n",
      "EPOCH 77 ...\n",
      "Validation Accuracy = 0.985\n",
      "EPOCH 78 ...\n",
      "Validation Accuracy = 0.984\n",
      "EPOCH 79 ...\n",
      "Validation Accuracy = 0.985\n",
      "EPOCH 80 ...\n",
      "Validation Accuracy = 0.985\n",
      "EPOCH 81 ...\n",
      "Validation Accuracy = 0.985\n",
      "EPOCH 82 ...\n",
      "Validation Accuracy = 0.984\n",
      "EPOCH 83 ...\n",
      "Validation Accuracy = 0.984\n",
      "EPOCH 84 ...\n",
      "Validation Accuracy = 0.985\n",
      "EPOCH 85 ...\n",
      "Validation Accuracy = 0.985\n",
      "EPOCH 86 ...\n",
      "Validation Accuracy = 0.984\n",
      "EPOCH 87 ...\n",
      "Validation Accuracy = 0.986\n",
      "EPOCH 88 ...\n",
      "Validation Accuracy = 0.986\n",
      "EPOCH 89 ...\n",
      "Validation Accuracy = 0.986\n",
      "EPOCH 90 ...\n",
      "Validation Accuracy = 0.984\n",
      "EPOCH 91 ...\n",
      "Validation Accuracy = 0.986\n",
      "EPOCH 92 ...\n",
      "Validation Accuracy = 0.987\n",
      "EPOCH 93 ...\n",
      "Validation Accuracy = 0.988\n",
      "EPOCH 94 ...\n",
      "Validation Accuracy = 0.986\n",
      "EPOCH 95 ...\n",
      "Validation Accuracy = 0.987\n",
      "EPOCH 96 ...\n",
      "Validation Accuracy = 0.985\n",
      "EPOCH 97 ...\n",
      "Validation Accuracy = 0.987\n",
      "EPOCH 98 ...\n",
      "Validation Accuracy = 0.986\n",
      "EPOCH 99 ...\n",
      "Validation Accuracy = 0.986\n",
      "EPOCH 100 ...\n",
      "Validation Accuracy = 0.986\n",
      "EPOCH 101 ...\n",
      "Validation Accuracy = 0.987\n",
      "EPOCH 102 ...\n",
      "Validation Accuracy = 0.987\n",
      "EPOCH 103 ...\n",
      "Validation Accuracy = 0.987\n"
     ]
    },
    {
     "ename": "KeyboardInterrupt",
     "evalue": "",
     "output_type": "error",
     "traceback": [
      "\u001b[0;31m\u001b[0m",
      "\u001b[0;31mKeyboardInterrupt\u001b[0mTraceback (most recent call last)",
      "\u001b[0;32m<ipython-input-21-007452e20821>\u001b[0m in \u001b[0;36m<module>\u001b[0;34m()\u001b[0m\n\u001b[1;32m     13\u001b[0m \u001b[0;34m\u001b[0m\u001b[0m\n\u001b[1;32m     14\u001b[0m \u001b[0;34m\u001b[0m\u001b[0m\n\u001b[0;32m---> 15\u001b[0;31m             \u001b[0msess\u001b[0m\u001b[0;34m.\u001b[0m\u001b[0mrun\u001b[0m\u001b[0;34m(\u001b[0m\u001b[0mtraining_operation\u001b[0m\u001b[0;34m,\u001b[0m \u001b[0mfeed_dict\u001b[0m\u001b[0;34m=\u001b[0m\u001b[0;34m{\u001b[0m\u001b[0mx\u001b[0m\u001b[0;34m:\u001b[0m \u001b[0mbatch_x\u001b[0m\u001b[0;34m,\u001b[0m \u001b[0my\u001b[0m\u001b[0;34m:\u001b[0m \u001b[0mbatch_y\u001b[0m\u001b[0;34m}\u001b[0m\u001b[0;34m)\u001b[0m\u001b[0;34m\u001b[0m\u001b[0m\n\u001b[0m\u001b[1;32m     16\u001b[0m \u001b[0;34m\u001b[0m\u001b[0m\n\u001b[1;32m     17\u001b[0m \u001b[0;31m#         validation_accuracy = evaluate(X_validation, y_validation, sess)\u001b[0m\u001b[0;34m\u001b[0m\u001b[0;34m\u001b[0m\u001b[0m\n",
      "\u001b[0;32m/usr/local/lib/python2.7/dist-packages/tensorflow/python/client/session.pyc\u001b[0m in \u001b[0;36mrun\u001b[0;34m(self, fetches, feed_dict, options, run_metadata)\u001b[0m\n\u001b[1;32m    765\u001b[0m     \u001b[0;32mtry\u001b[0m\u001b[0;34m:\u001b[0m\u001b[0;34m\u001b[0m\u001b[0m\n\u001b[1;32m    766\u001b[0m       result = self._run(None, fetches, feed_dict, options_ptr,\n\u001b[0;32m--> 767\u001b[0;31m                          run_metadata_ptr)\n\u001b[0m\u001b[1;32m    768\u001b[0m       \u001b[0;32mif\u001b[0m \u001b[0mrun_metadata\u001b[0m\u001b[0;34m:\u001b[0m\u001b[0;34m\u001b[0m\u001b[0m\n\u001b[1;32m    769\u001b[0m         \u001b[0mproto_data\u001b[0m \u001b[0;34m=\u001b[0m \u001b[0mtf_session\u001b[0m\u001b[0;34m.\u001b[0m\u001b[0mTF_GetBuffer\u001b[0m\u001b[0;34m(\u001b[0m\u001b[0mrun_metadata_ptr\u001b[0m\u001b[0;34m)\u001b[0m\u001b[0;34m\u001b[0m\u001b[0m\n",
      "\u001b[0;32m/usr/local/lib/python2.7/dist-packages/tensorflow/python/client/session.pyc\u001b[0m in \u001b[0;36m_run\u001b[0;34m(self, handle, fetches, feed_dict, options, run_metadata)\u001b[0m\n\u001b[1;32m    963\u001b[0m     \u001b[0;32mif\u001b[0m \u001b[0mfinal_fetches\u001b[0m \u001b[0;32mor\u001b[0m \u001b[0mfinal_targets\u001b[0m\u001b[0;34m:\u001b[0m\u001b[0;34m\u001b[0m\u001b[0m\n\u001b[1;32m    964\u001b[0m       results = self._do_run(handle, final_targets, final_fetches,\n\u001b[0;32m--> 965\u001b[0;31m                              feed_dict_string, options, run_metadata)\n\u001b[0m\u001b[1;32m    966\u001b[0m     \u001b[0;32melse\u001b[0m\u001b[0;34m:\u001b[0m\u001b[0;34m\u001b[0m\u001b[0m\n\u001b[1;32m    967\u001b[0m       \u001b[0mresults\u001b[0m \u001b[0;34m=\u001b[0m \u001b[0;34m[\u001b[0m\u001b[0;34m]\u001b[0m\u001b[0;34m\u001b[0m\u001b[0m\n",
      "\u001b[0;32m/usr/local/lib/python2.7/dist-packages/tensorflow/python/client/session.pyc\u001b[0m in \u001b[0;36m_do_run\u001b[0;34m(self, handle, target_list, fetch_list, feed_dict, options, run_metadata)\u001b[0m\n\u001b[1;32m   1013\u001b[0m     \u001b[0;32mif\u001b[0m \u001b[0mhandle\u001b[0m \u001b[0;32mis\u001b[0m \u001b[0mNone\u001b[0m\u001b[0;34m:\u001b[0m\u001b[0;34m\u001b[0m\u001b[0m\n\u001b[1;32m   1014\u001b[0m       return self._do_call(_run_fn, self._session, feed_dict, fetch_list,\n\u001b[0;32m-> 1015\u001b[0;31m                            target_list, options, run_metadata)\n\u001b[0m\u001b[1;32m   1016\u001b[0m     \u001b[0;32melse\u001b[0m\u001b[0;34m:\u001b[0m\u001b[0;34m\u001b[0m\u001b[0m\n\u001b[1;32m   1017\u001b[0m       return self._do_call(_prun_fn, self._session, handle, feed_dict,\n",
      "\u001b[0;32m/usr/local/lib/python2.7/dist-packages/tensorflow/python/client/session.pyc\u001b[0m in \u001b[0;36m_do_call\u001b[0;34m(self, fn, *args)\u001b[0m\n\u001b[1;32m   1020\u001b[0m   \u001b[0;32mdef\u001b[0m \u001b[0m_do_call\u001b[0m\u001b[0;34m(\u001b[0m\u001b[0mself\u001b[0m\u001b[0;34m,\u001b[0m \u001b[0mfn\u001b[0m\u001b[0;34m,\u001b[0m \u001b[0;34m*\u001b[0m\u001b[0margs\u001b[0m\u001b[0;34m)\u001b[0m\u001b[0;34m:\u001b[0m\u001b[0;34m\u001b[0m\u001b[0m\n\u001b[1;32m   1021\u001b[0m     \u001b[0;32mtry\u001b[0m\u001b[0;34m:\u001b[0m\u001b[0;34m\u001b[0m\u001b[0m\n\u001b[0;32m-> 1022\u001b[0;31m       \u001b[0;32mreturn\u001b[0m \u001b[0mfn\u001b[0m\u001b[0;34m(\u001b[0m\u001b[0;34m*\u001b[0m\u001b[0margs\u001b[0m\u001b[0;34m)\u001b[0m\u001b[0;34m\u001b[0m\u001b[0m\n\u001b[0m\u001b[1;32m   1023\u001b[0m     \u001b[0;32mexcept\u001b[0m \u001b[0merrors\u001b[0m\u001b[0;34m.\u001b[0m\u001b[0mOpError\u001b[0m \u001b[0;32mas\u001b[0m \u001b[0me\u001b[0m\u001b[0;34m:\u001b[0m\u001b[0;34m\u001b[0m\u001b[0m\n\u001b[1;32m   1024\u001b[0m       \u001b[0mmessage\u001b[0m \u001b[0;34m=\u001b[0m \u001b[0mcompat\u001b[0m\u001b[0;34m.\u001b[0m\u001b[0mas_text\u001b[0m\u001b[0;34m(\u001b[0m\u001b[0me\u001b[0m\u001b[0;34m.\u001b[0m\u001b[0mmessage\u001b[0m\u001b[0;34m)\u001b[0m\u001b[0;34m\u001b[0m\u001b[0m\n",
      "\u001b[0;32m/usr/local/lib/python2.7/dist-packages/tensorflow/python/client/session.pyc\u001b[0m in \u001b[0;36m_run_fn\u001b[0;34m(session, feed_dict, fetch_list, target_list, options, run_metadata)\u001b[0m\n\u001b[1;32m   1002\u001b[0m         return tf_session.TF_Run(session, options,\n\u001b[1;32m   1003\u001b[0m                                  \u001b[0mfeed_dict\u001b[0m\u001b[0;34m,\u001b[0m \u001b[0mfetch_list\u001b[0m\u001b[0;34m,\u001b[0m \u001b[0mtarget_list\u001b[0m\u001b[0;34m,\u001b[0m\u001b[0;34m\u001b[0m\u001b[0m\n\u001b[0;32m-> 1004\u001b[0;31m                                  status, run_metadata)\n\u001b[0m\u001b[1;32m   1005\u001b[0m \u001b[0;34m\u001b[0m\u001b[0m\n\u001b[1;32m   1006\u001b[0m     \u001b[0;32mdef\u001b[0m \u001b[0m_prun_fn\u001b[0m\u001b[0;34m(\u001b[0m\u001b[0msession\u001b[0m\u001b[0;34m,\u001b[0m \u001b[0mhandle\u001b[0m\u001b[0;34m,\u001b[0m \u001b[0mfeed_dict\u001b[0m\u001b[0;34m,\u001b[0m \u001b[0mfetch_list\u001b[0m\u001b[0;34m)\u001b[0m\u001b[0;34m:\u001b[0m\u001b[0;34m\u001b[0m\u001b[0m\n",
      "\u001b[0;31mKeyboardInterrupt\u001b[0m: "
     ]
    }
   ],
   "source": [
    "from sklearn.utils import shuffle\n",
    "with tf.Session() as sess:\n",
    "    sess.run(tf.global_variables_initializer())\n",
    "    num_examples = len(X_train)\n",
    "    \n",
    "    print(\"Training...\")\n",
    "    for i in range(training_epochs):\n",
    "        X_train, y_train = shuffle(X_train, y_train)\n",
    "        \n",
    "        for offset in range(0, num_examples, batch_size):\n",
    "            end = offset + batch_size\n",
    "            batch_x, batch_y = X_train[offset:end], y_train[offset:end]\n",
    "            batch_x = batch_x.reshape([-1,28,28,1])\n",
    "            \n",
    "            # start session\n",
    "            sess.run(training_operation, feed_dict={x: batch_x, y: batch_y})\n",
    "            \n",
    "        validation_accuracy = evaluate(X_validation, y_validation, sess)\n",
    "        print(\"EPOCH {} ...\".format(i+1))\n",
    "        print(\"Validation Accuracy = {:.3f}\".format(validation_accuracy))\n",
    "        \n",
    "    saver.save(sess, 'lenet')\n",
    "    print(\"Model saved\")"
   ]
  },
  {
   "cell_type": "markdown",
   "metadata": {
    "deletable": true,
    "editable": true
   },
   "source": [
    "<b> Question 2.1.4. </b>  Implement the evaluation function for accuracy computation "
   ]
  },
  {
   "cell_type": "code",
   "execution_count": 19,
   "metadata": {
    "collapsed": false,
    "deletable": true,
    "editable": true
   },
   "outputs": [],
   "source": [
    "correct_prediction = tf.equal(tf.argmax(model, 1), tf.argmax(y, 1))\n",
    "accuracy_operation = tf.reduce_mean(tf.cast(correct_prediction, tf.float32))\n",
    "saver = tf.train.Saver()\n",
    "\n",
    "def evaluate(xTest, yTest, sess):\n",
    "    xTest = xTest.reshape([-1,28,28,1])\n",
    "    num_examples = len(xTest)\n",
    "    total_accuracy = 0\n",
    "    \n",
    "    for offset in range(0, num_examples, batch_size):\n",
    "        batch_x, batch_y = xTest[offset:offset+batch_size], yTest[offset:offset+batch_size]\n",
    "        \n",
    "        accuracy = sess.run(accuracy_operation, feed_dict={x: batch_x, y: batch_y})\n",
    "        total_accuracy += (accuracy * len(batch_x))\n",
    "    \n",
    "    return total_accuracy / num_examples"
   ]
  },
  {
   "cell_type": "markdown",
   "metadata": {
    "collapsed": false,
    "deletable": true,
    "editable": true
   },
   "source": [
    "<b> Question 2.1.5. </b>  Implement training pipeline and run the training data through it to train the model.\n",
    "\n",
    "- Before each epoch, shuffle the training set. \n",
    "- Print the loss per mini batch and the training/validation accuracy per epoch. (Display results every 100 epochs)\n",
    "- Save the model after training\n",
    "- Print after training the final testing accuracy \n",
    "\n"
   ]
  },
  {
   "cell_type": "code",
   "execution_count": 96,
   "metadata": {
    "collapsed": false,
    "deletable": true,
    "editable": true
   },
   "outputs": [],
   "source": [
    "# Initializing the variables\n",
    "import time\n",
    "\n",
    "x = tf.placeholder(tf.float32, [None, 28, 28, 1], name='InputData')\n",
    "y = tf.placeholder(tf.float32, [None, 10], name='LabelData')\n",
    "keep_prob = tf.placeholder(tf.float32)\n",
    "\n",
    "class NeuralNetwork:\n",
    "    # the structure of this network is already defined\n",
    "    # param to change: isdropout, \n",
    "#  Learning rate =0.1\n",
    "#  Loss Fucntion: Cross entropy\n",
    "#  Optimisateur: SGD\n",
    "#  Number of training iterations= 10000\n",
    "#  The batch size =128\n",
    "    def __init__(self, LR=0.1, Iter=100, Batchsize=128, Optimizer=tf.train.GradientDescentOptimizer, IsDropOut=False, Activation=tf.nn.sigmoid):\n",
    "        self.logs_path = \"log_files/\"\n",
    "        self.display_step = 1\n",
    "        self.LR = LR\n",
    "        self.Iter = Iter\n",
    "        self.Batchsize = Batchsize\n",
    "        self.Optimizer = Optimizer\n",
    "        self.IsDropOut = IsDropOut\n",
    "        self.Activation = Activation\n",
    "        \n",
    "        \n",
    "        # x_normalize = tf.divide(x_new, 255.0)\n",
    "#         cross_entropy = tf.nn.softmax_cross_entropy_with_logits(logits=model, labels=y)\n",
    "#         loss_operation = tf.reduce_mean(cross_entropy)\n",
    "#         optimizer = tf.train.GradientDescentOptimizer(learning_rate = learning_rate)\n",
    "#         training_operation = optimizer.minimize(loss_operation)\n",
    "        \n",
    "        \n",
    "        with tf.name_scope('Model'):\n",
    "            # Model\n",
    "            self.model = self.define_model(x, y)\n",
    "        with tf.name_scope('Loss'):\n",
    "            # Minimize error using cross entropy\n",
    "            self.cross_entropy = tf.nn.softmax_cross_entropy_with_logits(logits=self.model, labels=y)\n",
    "            self.cost = tf.reduce_mean(self.cross_entropy)\n",
    "        with tf.name_scope('Optimizer'):\n",
    "            # Gradient Descent\n",
    "            self.tfoptimizer = self.Optimizer(self.LR).minimize(self.cost)\n",
    "        with tf.name_scope('Accuracy'):\n",
    "            # Accuracy\n",
    "            self.correct_prediction = tf.equal(tf.argmax(self.model, 1), tf.argmax(y, 1))\n",
    "            self.accuracy_operation = tf.reduce_mean(tf.cast(self.correct_prediction, tf.float32))\n",
    "            self.saver = tf.train.Saver()\n",
    "\n",
    "        self.init = tf.global_variables_initializer()\n",
    "        # Create a summary to monitor cost tensor\n",
    "        self.summary_cost_epoch = tf.summary.scalar(\"Loss\", self.cost)\n",
    "        self.summary_cost_batch = tf.summary.scalar(\"Loss\", self.cost)\n",
    "        # Create a summary to monitor accuracy tensor\n",
    "        self.summary_train_acc = tf.summary.scalar(\"Train_Accuracy\", self.accuracy_operation)\n",
    "        self.summary_validation_acc = tf.summary.scalar(\"Validation_Accuracy\", self.accuracy_operation)\n",
    "        # Merge all summaries into a single op\n",
    "        \n",
    "    \n",
    "    \n",
    "    def define_model(self, x, y):\n",
    "        mu = 0\n",
    "        sigma = 0.1\n",
    "        # resized image input 28x28x1 => 32x32x1\n",
    "        x_new = tf.map_fn(lambda x1: tf.image.pad_to_bounding_box(x1, 2, 2, 32, 32), x)\n",
    "        \n",
    "        # SOLUTION: Layer 1: Convolutional. Input = 32x32x1. Output = 28x28x6.\n",
    "        conv1_W = tf.Variable(tf.truncated_normal(shape=(5, 5, 1, 6), mean = mu, stddev = sigma))\n",
    "        conv1_b = bias_variable([6])\n",
    "        conv1_pre   = tf.nn.conv2d(x_new, conv1_W, strides=[1, 1, 1, 1], padding='VALID') + conv1_b\n",
    "\n",
    "        # SOLUTION: Activation.\n",
    "        conv1_ac = self.Activation(conv1_pre)\n",
    "\n",
    "        # SOLUTION: Pooling. Input = 28x28x6. Output = 14x14x6.\n",
    "        conv1 = tf.nn.max_pool(conv1_ac, ksize=[1, 2, 2, 1], strides=[1, 2, 2, 1], padding='VALID')\n",
    "\n",
    "        # SOLUTION: Layer 2: Convolutional. Output = 10x10x16.\n",
    "        conv2_W = tf.Variable(tf.truncated_normal(shape=(5, 5, 6, 16), mean = mu, stddev = sigma))\n",
    "        conv2_b = bias_variable([16])\n",
    "        conv2_pre   = tf.nn.conv2d(conv1, conv2_W, strides=[1, 1, 1, 1], padding='VALID') + conv2_b\n",
    "\n",
    "        # SOLUTION: Activation.\n",
    "        conv2_ac = self.Activation(conv2_pre)\n",
    "\n",
    "        # SOLUTION: Pooling. Input = 10x10x16. Output = 5x5x16.\n",
    "        conv2 = tf.nn.max_pool(conv2_ac, ksize=[1, 2, 2, 1], strides=[1, 2, 2, 1], padding='VALID')\n",
    "\n",
    "        # SOLUTION: Flatten. Input = 5x5x16. Output = 400.t multiple values for keyword argument 'LR\n",
    "        fc0   = flatten(conv2)\n",
    "\n",
    "        # SOLUTION: Layer 3: Fully Connected. Input = 400. Output = 120.\n",
    "        fc1_W = tf.Variable(tf.truncated_normal(shape=(400, 120), mean = mu, stddev = sigma))\n",
    "        fc1_b = tf.Variable(tf.zeros(120))\n",
    "        fc1_pre   = tf.matmul(fc0, fc1_W) + fc1_b\n",
    "\n",
    "        # SOLUTION: Activation.\n",
    "        fc1   = self.Activation(fc1_pre)\n",
    "        \n",
    "        fc1_out = None\n",
    "        # keep probability number to be input in training\n",
    "        # drop out\n",
    "        if (self.IsDropOut):\n",
    "            fc1_out = tf.nn.dropout(fc1, keep_prob)\n",
    "        else:\n",
    "            fc1_out = fc1\n",
    "\n",
    "        # SOLUTION: Layer 4: Fully Connected. Input = 120. Output = 84.\n",
    "        fc2_W  = tf.Variable(tf.truncated_normal(shape=(120, 84), mean = mu, stddev = sigma))\n",
    "        fc2_b  = bias_variable([84])\n",
    "        fc2_pre = tf.matmul(fc1_out, fc2_W) + fc2_b\n",
    "\n",
    "        # SOLUTION: Activation.\n",
    "        fc2    = self.Activation(fc2_pre)\n",
    "        \n",
    "        fc2_out = None\n",
    "        if (self.IsDropOut):\n",
    "            fc2_out = tf.nn.dropout(fc2, keep_prob)\n",
    "        else:\n",
    "            fc2_out = fc2\n",
    "            \n",
    "        # SOLUTION: Layer 5: Fully Connected. Input = 84. Output = 10.\n",
    "        fc3_W  = tf.Variable(tf.truncated_normal(shape=(84, 10), mean = mu, stddev = sigma))\n",
    "        fc3_b  = bias_variable([10])\n",
    "        fc3_pre = tf.matmul(fc2_out, fc3_W) + fc3_b\n",
    "\n",
    "        logits = fc3_pre\n",
    "        return logits\n",
    "        \n",
    "    def evaluation(self, X_val, y_val, sess, acc_summary=None):\n",
    "        X_val_reshaped = X_val.reshape([-1, 28, 28, 1])\n",
    "        accuracy = 0\n",
    "        if (acc_summary != None):\n",
    "            if (self.IsDropOut):\n",
    "                accuracy, summary_ = sess.run([self.accuracy_operation, acc_summary], feed_dict={x: X_val_reshaped, y: y_val, keep_prob: 1.0})\n",
    "            else:\n",
    "                accuracy, summary_ = sess.run([self.accuracy_operation, acc_summary], feed_dict={x: X_val_reshaped, y: y_val})\n",
    "            return accuracy, summary_\n",
    "        else:\n",
    "            if (self.IsDropOut):\n",
    "                accuracy = sess.run([self.accuracy_operation], feed_dict={x: X_val_reshaped, y: y_val, keep_prob: 1.0})\n",
    "            else:\n",
    "                accuracy = sess.run([self.accuracy_operation], feed_dict={x: X_val_reshaped, y: y_val})\n",
    "            return accuracy\n",
    "        \n",
    "    def train(self, X_train, y_train, X_validation, y_validation):\n",
    "        # Initializing the session \n",
    "        print (\"Start Training!\")\n",
    "        ####\n",
    "#         X_train, y_train = shuffle(X_train, y_train)\n",
    "#         for offset in range(0, num_examples, batch_size):\n",
    "#             end = offset + batch_size\n",
    "#             batch_x, batch_y = X_train[offset:end], y_train[offset:end]\n",
    "#             batch_x = batch_x.reshape([-1,28,28,1])\n",
    "            \n",
    "            \n",
    "#             sess.run(training_operation, feed_dict={x: batch_x, y: batch_y})\n",
    "            \n",
    "# #         validation_accuracy = evaluate(X_validation, y_validation, sess)\n",
    "#         validation_accuracy = evaluate(X_validation, y_validation, sess)\n",
    "#         print(\"EPOCH {} ...\".format(i+1))\n",
    "#         print(\"Validation Accuracy = {:.3f}\".format(validation_accuracy))\n",
    "        # Launch the graph for training\n",
    "        with tf.Session() as sess:\n",
    "            sess.close()\n",
    "            sess.run(self.init)\n",
    "            # op to write logs to Tensorboard\n",
    "            summary_writer = tf.summary.FileWriter(self.logs_path, graph=tf.get_default_graph())\n",
    "            # Training cycle\n",
    "            for epoch in np.arange(self.Iter):\n",
    "                avg_cost = 0.\n",
    "                total_batch = int(mnist.train.num_examples/batch_size)\n",
    "                X_train, y_train = shuffle(X_train, y_train)\n",
    "                \n",
    "                # Loop over all batches\n",
    "                for offset in range(0, num_examples, batch_size):\n",
    "                    end = offset + batch_size\n",
    "                    batch_x, batch_y = X_train[offset:end], y_train[offset:end]\n",
    "                    batch_x = batch_x.reshape([-1,28,28,1])\n",
    "                    # Run optimization op (backprop), cost op (to get loss value)\n",
    "                    # and summary nodes\n",
    "        #             print(type(batch_xs))\n",
    "                    c = None\n",
    "                    if (self.IsDropOut == False):\n",
    "                        _, c = sess.run([self.tfoptimizer, self.cost], \n",
    "                                                 feed_dict={x: batch_x, y: batch_y})\n",
    "                    else:\n",
    "                        _, c = sess.run([self.tfoptimizer, self.cost], \n",
    "                                                 feed_dict={x: batch_x, y: batch_y, keep_prob: 0.75})\n",
    "                    # Write logs at every iteration\n",
    "#                     summary_writer.add_summary(summary, epoch * total_batch + i)\n",
    "                    # fix this\n",
    "                    # Compute average loss\n",
    "#                     print(\"Batch \", offset / batch_size + 1 , \" loss: \", c)\n",
    "                    avg_cost += c / total_batch\n",
    "                # Display logs per epoch step\n",
    "                \n",
    "                if (epoch+1) % self.display_step == 0:\n",
    "                    accu, accu_sum = self.evaluation(X_validation, y_validation, sess, self.summary_validation_acc)\n",
    "                    print(\"Epoch: \", '%02d' % (epoch+1), \n",
    "                          \", Loss=\", \"{:.9f}\".format(avg_cost), \n",
    "#                           \", Training accuracy=\", self.evaluation(X_train, y_train, sess),\n",
    "                          \", Validation accuracy=\", accu\n",
    "                         )\n",
    "                    summary_writer.add_summary(accu_sum, epoch)\n",
    "            \n",
    "            print(\"Optimization Finished!\")\n",
    "            # Save model\n",
    "            self.saver.save(sess, \"mnist_nn_\" + str(self.Iter) + \"_\" + str(time.time()), global_step=100)\n",
    "            # Test model\n",
    "            # Calculate accuracy\n",
    "            print(\"Accuracy on test data: \", self.evaluation(mnist.test.images, mnist.test.labels, sess, None))\n",
    "    "
   ]
  },
  {
   "cell_type": "code",
   "execution_count": 61,
   "metadata": {
    "collapsed": false
   },
   "outputs": [
    {
     "name": "stdout",
     "output_type": "stream",
     "text": [
      "Start Training!\n",
      "Epoch:  01 , Loss= 2.310846389 , Training accuracy= 0.103909 , Validation accuracy= 0.11\n",
      "Epoch:  02 , Loss= 2.310091832 , Training accuracy= 0.0984909 , Validation accuracy= 0.1002\n",
      "Epoch:  03 , Loss= 2.310317077 , Training accuracy= 0.103909 , Validation accuracy= 0.11\n",
      "Epoch:  04 , Loss= 2.309120519 , Training accuracy= 0.112345 , Validation accuracy= 0.1126\n",
      "Epoch:  05 , Loss= 2.308010817 , Training accuracy= 0.123891 , Validation accuracy= 0.1334\n",
      "Epoch:  06 , Loss= 2.306360165 , Training accuracy= 0.112345 , Validation accuracy= 0.1126\n",
      "Epoch:  07 , Loss= 2.302617693 , Training accuracy= 0.103909 , Validation accuracy= 0.11\n",
      "Epoch:  08 , Loss= 2.280734985 , Training accuracy= 0.2472 , Validation accuracy= 0.2612\n",
      "Epoch:  09 , Loss= 2.005129505 , Training accuracy= 0.442091 , Validation accuracy= 0.4588\n",
      "Epoch:  10 , Loss= 1.367010500 , Training accuracy= 0.717145 , Validation accuracy= 0.7308\n",
      "Epoch:  11 , Loss= 0.780713167 , Training accuracy= 0.814055 , Validation accuracy= 0.8248\n",
      "Epoch:  12 , Loss= 0.541659289 , Training accuracy= 0.865836 , Validation accuracy= 0.8684\n"
     ]
    },
    {
     "ename": "KeyboardInterrupt",
     "evalue": "",
     "output_type": "error",
     "traceback": [
      "\u001b[0;31m\u001b[0m",
      "\u001b[0;31mKeyboardInterrupt\u001b[0mTraceback (most recent call last)",
      "\u001b[0;32m<ipython-input-61-86627971ff6c>\u001b[0m in \u001b[0;36m<module>\u001b[0;34m()\u001b[0m\n\u001b[1;32m      1\u001b[0m mnist_nn = NeuralNetwork(LR=0.1, Iter=100, Batchsize=128, \n\u001b[1;32m      2\u001b[0m                          Optimizer=tf.train.GradientDescentOptimizer, IsDropOut=False, Activation=tf.nn.sigmoid)\n\u001b[0;32m----> 3\u001b[0;31m \u001b[0mmnist_nn\u001b[0m\u001b[0;34m.\u001b[0m\u001b[0mtrain\u001b[0m\u001b[0;34m(\u001b[0m\u001b[0mX_train\u001b[0m\u001b[0;34m,\u001b[0m \u001b[0my_train\u001b[0m\u001b[0;34m,\u001b[0m \u001b[0mX_validation\u001b[0m\u001b[0;34m,\u001b[0m \u001b[0my_validation\u001b[0m\u001b[0;34m)\u001b[0m\u001b[0;34m\u001b[0m\u001b[0m\n\u001b[0m",
      "\u001b[0;32m<ipython-input-60-fc9b5c1498ea>\u001b[0m in \u001b[0;36mtrain\u001b[0;34m(self, X_train, y_train, X_validation, y_validation)\u001b[0m\n\u001b[1;32m    181\u001b[0m                     print(\"Epoch: \", '%02d' % (epoch+1), \n\u001b[1;32m    182\u001b[0m                           \u001b[0;34m\", Loss=\"\u001b[0m\u001b[0;34m,\u001b[0m \u001b[0;34m\"{:.9f}\"\u001b[0m\u001b[0;34m.\u001b[0m\u001b[0mformat\u001b[0m\u001b[0;34m(\u001b[0m\u001b[0mavg_cost\u001b[0m\u001b[0;34m)\u001b[0m\u001b[0;34m,\u001b[0m\u001b[0;34m\u001b[0m\u001b[0m\n\u001b[0;32m--> 183\u001b[0;31m                           \u001b[0;34m\", Training accuracy=\"\u001b[0m\u001b[0;34m,\u001b[0m \u001b[0mself\u001b[0m\u001b[0;34m.\u001b[0m\u001b[0mevaluation\u001b[0m\u001b[0;34m(\u001b[0m\u001b[0mX_train\u001b[0m\u001b[0;34m,\u001b[0m \u001b[0my_train\u001b[0m\u001b[0;34m,\u001b[0m \u001b[0msess\u001b[0m\u001b[0;34m)\u001b[0m\u001b[0;34m,\u001b[0m\u001b[0;34m\u001b[0m\u001b[0m\n\u001b[0m\u001b[1;32m    184\u001b[0m                           \u001b[0;34m\", Validation accuracy=\"\u001b[0m\u001b[0;34m,\u001b[0m \u001b[0mself\u001b[0m\u001b[0;34m.\u001b[0m\u001b[0mevaluation\u001b[0m\u001b[0;34m(\u001b[0m\u001b[0mX_validation\u001b[0m\u001b[0;34m,\u001b[0m \u001b[0my_validation\u001b[0m\u001b[0;34m,\u001b[0m \u001b[0msess\u001b[0m\u001b[0;34m)\u001b[0m\u001b[0;34m\u001b[0m\u001b[0m\n\u001b[1;32m    185\u001b[0m                          )\n",
      "\u001b[0;32m<ipython-input-60-fc9b5c1498ea>\u001b[0m in \u001b[0;36mevaluation\u001b[0;34m(self, X_val, y_val, sess)\u001b[0m\n\u001b[1;32m    131\u001b[0m             \u001b[0maccuracy\u001b[0m \u001b[0;34m=\u001b[0m \u001b[0msess\u001b[0m\u001b[0;34m.\u001b[0m\u001b[0mrun\u001b[0m\u001b[0;34m(\u001b[0m\u001b[0mself\u001b[0m\u001b[0;34m.\u001b[0m\u001b[0maccuracy_operation\u001b[0m\u001b[0;34m,\u001b[0m \u001b[0mfeed_dict\u001b[0m\u001b[0;34m=\u001b[0m\u001b[0;34m{\u001b[0m\u001b[0mx\u001b[0m\u001b[0;34m:\u001b[0m \u001b[0mX_val_reshaped\u001b[0m\u001b[0;34m,\u001b[0m \u001b[0my\u001b[0m\u001b[0;34m:\u001b[0m \u001b[0my_val\u001b[0m\u001b[0;34m,\u001b[0m \u001b[0mkeep_prob\u001b[0m\u001b[0;34m:\u001b[0m \u001b[0;36m1.0\u001b[0m\u001b[0;34m}\u001b[0m\u001b[0;34m)\u001b[0m\u001b[0;34m\u001b[0m\u001b[0m\n\u001b[1;32m    132\u001b[0m         \u001b[0;32melse\u001b[0m\u001b[0;34m:\u001b[0m\u001b[0;34m\u001b[0m\u001b[0m\n\u001b[0;32m--> 133\u001b[0;31m             \u001b[0maccuracy\u001b[0m \u001b[0;34m=\u001b[0m \u001b[0msess\u001b[0m\u001b[0;34m.\u001b[0m\u001b[0mrun\u001b[0m\u001b[0;34m(\u001b[0m\u001b[0mself\u001b[0m\u001b[0;34m.\u001b[0m\u001b[0maccuracy_operation\u001b[0m\u001b[0;34m,\u001b[0m \u001b[0mfeed_dict\u001b[0m\u001b[0;34m=\u001b[0m\u001b[0;34m{\u001b[0m\u001b[0mx\u001b[0m\u001b[0;34m:\u001b[0m \u001b[0mX_val_reshaped\u001b[0m\u001b[0;34m,\u001b[0m \u001b[0my\u001b[0m\u001b[0;34m:\u001b[0m \u001b[0my_val\u001b[0m\u001b[0;34m}\u001b[0m\u001b[0;34m)\u001b[0m\u001b[0;34m\u001b[0m\u001b[0m\n\u001b[0m\u001b[1;32m    134\u001b[0m         \u001b[0;32mreturn\u001b[0m \u001b[0maccuracy\u001b[0m\u001b[0;34m\u001b[0m\u001b[0m\n\u001b[1;32m    135\u001b[0m \u001b[0;34m\u001b[0m\u001b[0m\n",
      "\u001b[0;32m/usr/local/lib/python2.7/dist-packages/tensorflow/python/client/session.pyc\u001b[0m in \u001b[0;36mrun\u001b[0;34m(self, fetches, feed_dict, options, run_metadata)\u001b[0m\n\u001b[1;32m    765\u001b[0m     \u001b[0;32mtry\u001b[0m\u001b[0;34m:\u001b[0m\u001b[0;34m\u001b[0m\u001b[0m\n\u001b[1;32m    766\u001b[0m       result = self._run(None, fetches, feed_dict, options_ptr,\n\u001b[0;32m--> 767\u001b[0;31m                          run_metadata_ptr)\n\u001b[0m\u001b[1;32m    768\u001b[0m       \u001b[0;32mif\u001b[0m \u001b[0mrun_metadata\u001b[0m\u001b[0;34m:\u001b[0m\u001b[0;34m\u001b[0m\u001b[0m\n\u001b[1;32m    769\u001b[0m         \u001b[0mproto_data\u001b[0m \u001b[0;34m=\u001b[0m \u001b[0mtf_session\u001b[0m\u001b[0;34m.\u001b[0m\u001b[0mTF_GetBuffer\u001b[0m\u001b[0;34m(\u001b[0m\u001b[0mrun_metadata_ptr\u001b[0m\u001b[0;34m)\u001b[0m\u001b[0;34m\u001b[0m\u001b[0m\n",
      "\u001b[0;32m/usr/local/lib/python2.7/dist-packages/tensorflow/python/client/session.pyc\u001b[0m in \u001b[0;36m_run\u001b[0;34m(self, handle, fetches, feed_dict, options, run_metadata)\u001b[0m\n\u001b[1;32m    963\u001b[0m     \u001b[0;32mif\u001b[0m \u001b[0mfinal_fetches\u001b[0m \u001b[0;32mor\u001b[0m \u001b[0mfinal_targets\u001b[0m\u001b[0;34m:\u001b[0m\u001b[0;34m\u001b[0m\u001b[0m\n\u001b[1;32m    964\u001b[0m       results = self._do_run(handle, final_targets, final_fetches,\n\u001b[0;32m--> 965\u001b[0;31m                              feed_dict_string, options, run_metadata)\n\u001b[0m\u001b[1;32m    966\u001b[0m     \u001b[0;32melse\u001b[0m\u001b[0;34m:\u001b[0m\u001b[0;34m\u001b[0m\u001b[0m\n\u001b[1;32m    967\u001b[0m       \u001b[0mresults\u001b[0m \u001b[0;34m=\u001b[0m \u001b[0;34m[\u001b[0m\u001b[0;34m]\u001b[0m\u001b[0;34m\u001b[0m\u001b[0m\n",
      "\u001b[0;32m/usr/local/lib/python2.7/dist-packages/tensorflow/python/client/session.pyc\u001b[0m in \u001b[0;36m_do_run\u001b[0;34m(self, handle, target_list, fetch_list, feed_dict, options, run_metadata)\u001b[0m\n\u001b[1;32m   1013\u001b[0m     \u001b[0;32mif\u001b[0m \u001b[0mhandle\u001b[0m \u001b[0;32mis\u001b[0m \u001b[0mNone\u001b[0m\u001b[0;34m:\u001b[0m\u001b[0;34m\u001b[0m\u001b[0m\n\u001b[1;32m   1014\u001b[0m       return self._do_call(_run_fn, self._session, feed_dict, fetch_list,\n\u001b[0;32m-> 1015\u001b[0;31m                            target_list, options, run_metadata)\n\u001b[0m\u001b[1;32m   1016\u001b[0m     \u001b[0;32melse\u001b[0m\u001b[0;34m:\u001b[0m\u001b[0;34m\u001b[0m\u001b[0m\n\u001b[1;32m   1017\u001b[0m       return self._do_call(_prun_fn, self._session, handle, feed_dict,\n",
      "\u001b[0;32m/usr/local/lib/python2.7/dist-packages/tensorflow/python/client/session.pyc\u001b[0m in \u001b[0;36m_do_call\u001b[0;34m(self, fn, *args)\u001b[0m\n\u001b[1;32m   1020\u001b[0m   \u001b[0;32mdef\u001b[0m \u001b[0m_do_call\u001b[0m\u001b[0;34m(\u001b[0m\u001b[0mself\u001b[0m\u001b[0;34m,\u001b[0m \u001b[0mfn\u001b[0m\u001b[0;34m,\u001b[0m \u001b[0;34m*\u001b[0m\u001b[0margs\u001b[0m\u001b[0;34m)\u001b[0m\u001b[0;34m:\u001b[0m\u001b[0;34m\u001b[0m\u001b[0m\n\u001b[1;32m   1021\u001b[0m     \u001b[0;32mtry\u001b[0m\u001b[0;34m:\u001b[0m\u001b[0;34m\u001b[0m\u001b[0m\n\u001b[0;32m-> 1022\u001b[0;31m       \u001b[0;32mreturn\u001b[0m \u001b[0mfn\u001b[0m\u001b[0;34m(\u001b[0m\u001b[0;34m*\u001b[0m\u001b[0margs\u001b[0m\u001b[0;34m)\u001b[0m\u001b[0;34m\u001b[0m\u001b[0m\n\u001b[0m\u001b[1;32m   1023\u001b[0m     \u001b[0;32mexcept\u001b[0m \u001b[0merrors\u001b[0m\u001b[0;34m.\u001b[0m\u001b[0mOpError\u001b[0m \u001b[0;32mas\u001b[0m \u001b[0me\u001b[0m\u001b[0;34m:\u001b[0m\u001b[0;34m\u001b[0m\u001b[0m\n\u001b[1;32m   1024\u001b[0m       \u001b[0mmessage\u001b[0m \u001b[0;34m=\u001b[0m \u001b[0mcompat\u001b[0m\u001b[0;34m.\u001b[0m\u001b[0mas_text\u001b[0m\u001b[0;34m(\u001b[0m\u001b[0me\u001b[0m\u001b[0;34m.\u001b[0m\u001b[0mmessage\u001b[0m\u001b[0;34m)\u001b[0m\u001b[0;34m\u001b[0m\u001b[0m\n",
      "\u001b[0;32m/usr/local/lib/python2.7/dist-packages/tensorflow/python/client/session.pyc\u001b[0m in \u001b[0;36m_run_fn\u001b[0;34m(session, feed_dict, fetch_list, target_list, options, run_metadata)\u001b[0m\n\u001b[1;32m   1002\u001b[0m         return tf_session.TF_Run(session, options,\n\u001b[1;32m   1003\u001b[0m                                  \u001b[0mfeed_dict\u001b[0m\u001b[0;34m,\u001b[0m \u001b[0mfetch_list\u001b[0m\u001b[0;34m,\u001b[0m \u001b[0mtarget_list\u001b[0m\u001b[0;34m,\u001b[0m\u001b[0;34m\u001b[0m\u001b[0m\n\u001b[0;32m-> 1004\u001b[0;31m                                  status, run_metadata)\n\u001b[0m\u001b[1;32m   1005\u001b[0m \u001b[0;34m\u001b[0m\u001b[0m\n\u001b[1;32m   1006\u001b[0m     \u001b[0;32mdef\u001b[0m \u001b[0m_prun_fn\u001b[0m\u001b[0;34m(\u001b[0m\u001b[0msession\u001b[0m\u001b[0;34m,\u001b[0m \u001b[0mhandle\u001b[0m\u001b[0;34m,\u001b[0m \u001b[0mfeed_dict\u001b[0m\u001b[0;34m,\u001b[0m \u001b[0mfetch_list\u001b[0m\u001b[0;34m)\u001b[0m\u001b[0;34m:\u001b[0m\u001b[0;34m\u001b[0m\u001b[0m\n",
      "\u001b[0;31mKeyboardInterrupt\u001b[0m: "
     ]
    }
   ],
   "source": [
    "mnist_nn = NeuralNetwork(LR=0.1, Iter=100, Batchsize=128, \n",
    "                         Optimizer=tf.train.GradientDescentOptimizer, IsDropOut=False, Activation=tf.nn.sigmoid)\n",
    "mnist_nn.train(X_train, y_train, X_validation, y_validation)"
   ]
  },
  {
   "cell_type": "markdown",
   "metadata": {
    "deletable": true,
    "editable": true
   },
   "source": [
    "<b> Question 2.1.6 </b> : Use tensorBoard to visualise and save the LeNet5 Graph and all learning curves. \n",
    "Save all obtained figures in the folder **\"TP2/MNIST_99_Challenge_Figures\"**"
   ]
  },
  {
   "cell_type": "code",
   "execution_count": null,
   "metadata": {
    "collapsed": true,
    "deletable": true,
    "editable": true
   },
   "outputs": [],
   "source": [
    "#  insert your obtained figure here "
   ]
  },
  {
   "cell_type": "code",
   "execution_count": null,
   "metadata": {
    "collapsed": true,
    "deletable": true,
    "editable": true
   },
   "outputs": [],
   "source": [
    "# your answer goas here"
   ]
  },
  {
   "cell_type": "markdown",
   "metadata": {
    "deletable": true,
    "editable": true
   },
   "source": [
    "<b> Part 2 </b> : LeNET 5 Optimization"
   ]
  },
  {
   "cell_type": "markdown",
   "metadata": {
    "deletable": true,
    "editable": true
   },
   "source": [
    "\n",
    "<b> Question 2.2.1 </b>  Change the sigmoid function with a Relu :\n",
    "\n",
    "- Retrain your network with SGD and AdamOptimizer and then fill the table above  :\n",
    "\n",
    "\n",
    "| Optimizer            |  Gradient Descent         |AdamOptimizer |\n",
    "| -------------        |: -------------: | ---------:   \n",
    "| Validation Accuracy  |         |    |      \n",
    "| Testing Accuracy     |           |    |       \n",
    "| Training Time        |           |        |  |  \n",
    "\n",
    "\n",
    "- Try with different learning rates for each Optimizer (0.0001 and 0.001 ) and different Batch sizes (50 and 128) for 20000 Epochs. \n",
    "\n",
    "- For each optimizer, plot (on the same curve) the **testing accuracies** function to **(learning rate, batch size)** \n",
    "\n",
    "\n",
    "\n",
    "- Did you reach the 99% accuracy ? What are the optimal parametres that gave you the best results? \n",
    "\n",
    "\n",
    "\n",
    "\n",
    "\n",
    "\n"
   ]
  },
  {
   "cell_type": "code",
   "execution_count": 98,
   "metadata": {
    "collapsed": false,
    "deletable": true,
    "editable": true
   },
   "outputs": [
    {
     "name": "stdout",
     "output_type": "stream",
     "text": [
      "Start Training!\n",
      "Epoch:  01 , Loss= 2.298147947 , Validation accuracy= 0.1476\n",
      "Epoch:  02 , Loss= 2.276781329 , Validation accuracy= 0.275\n",
      "Optimization Finished!\n",
      "Accuracy on test data:  [0.29350001]\n"
     ]
    }
   ],
   "source": [
    "# your answer goas here\n",
    "\n",
    "mnist_relu_001_50 = NeuralNetwork(LR=0.001, Iter=100, Batchsize=50, \n",
    "                         Optimizer=tf.train.GradientDescentOptimizer, IsDropOut=False, Activation=tf.nn.relu)\n",
    "mnist_relu_001_50.train(X_train, y_train, X_validation, y_validation)\n",
    "\n",
    "mnist_relu_0001_50 = NeuralNetwork(LR=0.0001, Iter=100, Batchsize=50, \n",
    "                         Optimizer=tf.train.GradientDescentOptimizer, IsDropOut=False, Activation=tf.nn.relu)\n",
    "mnist_relu_0001_50.train(X_train, y_train, X_validation, y_validation)\n",
    "\n",
    "\n",
    "mnist_relu_001_128 = NeuralNetwork(LR=0.001, Iter=100, Batchsize=128, \n",
    "                         Optimizer=tf.train.GradientDescentOptimizer, IsDropOut=False, Activation=tf.nn.relu)\n",
    "mnist_relu_001_128.train(X_train, y_train, X_validation, y_validation)\n",
    "\n",
    "mnist_relu_0001_128 = NeuralNetwork(LR=0.0001, Iter=100, Batchsize=128, \n",
    "                         Optimizer=tf.train.GradientDescentOptimizer, IsDropOut=False, Activation=tf.nn.relu)\n",
    "mnist_relu_0001_128.train(X_train, y_train, X_validation, y_validation)\n",
    "\n",
    "\n",
    "mnist_relu_001_50 = NeuralNetwork(LR=0.001, Iter=100, Batchsize=50, \n",
    "                         Optimizer=tf.train.AdamOptimizer, IsDropOut=False, Activation=tf.nn.relu)\n",
    "mnist_relu_001_50.train(X_train, y_train, X_validation, y_validation)\n",
    "\n",
    "mnist_relu_0001_50 = NeuralNetwork(LR=0.0001, Iter=100, Batchsize=50, \n",
    "                         Optimizer=tf.train.AdamOptimizer, IsDropOut=False, Activation=tf.nn.relu)\n",
    "mnist_relu_0001_50.train(X_train, y_train, X_validation, y_validation)\n",
    "\n",
    "\n",
    "mnist_relu_001_128 = NeuralNetwork(LR=0.001, Iter=100, Batchsize=128, \n",
    "                         Optimizer=tf.train.AdamOptimizer, IsDropOut=False, Activation=tf.nn.relu)\n",
    "mnist_relu_001_128.train(X_train, y_train, X_validation, y_validation)\n",
    "\n",
    "mnist_relu_0001_128 = NeuralNetwork(LR=0.0001, Iter=100, Batchsize=128, \n",
    "                         Optimizer=tf.train.AdamOptimizer, IsDropOut=False, Activation=tf.nn.relu)\n",
    "mnist_relu_0001_128.train(X_train, y_train, X_validation, y_validation)"
   ]
  },
  {
   "cell_type": "markdown",
   "metadata": {
    "deletable": true,
    "editable": true
   },
   "source": [
    "<b> Question 2.2.2 </b>  What about applying a dropout layer on the Fully conntected layer and then retraining the model with the best Optimizer and parameters(Learning rate and Batsh size) obtained in *Question 2.2.1*  ? (probability to keep units=0.75). For this stage ensure that the keep prob is set to 1.0 to evaluate the \n",
    "performance of the network including all nodes."
   ]
  },
  {
   "cell_type": "code",
   "execution_count": 66,
   "metadata": {
    "collapsed": false,
    "deletable": true,
    "editable": true
   },
   "outputs": [
    {
     "name": "stdout",
     "output_type": "stream",
     "text": [
      "Start Training!\n",
      "Epoch:  01 , Loss= 2.325644633 , Training accuracy= 0.0964909 , Validation accuracy= 0.107\n",
      "Epoch:  02 , Loss= 2.315682795 , Training accuracy= 0.0984909 , Validation accuracy= 0.1002\n",
      "Epoch:  03 , Loss= 2.312604411 , Training accuracy= 0.112345 , Validation accuracy= 0.1126\n",
      "Epoch:  04 , Loss= 2.311279979 , Training accuracy= 0.103909 , Validation accuracy= 0.11\n",
      "Epoch:  05 , Loss= 2.309775676 , Training accuracy= 0.0994545 , Validation accuracy= 0.0976\n",
      "Epoch:  06 , Loss= 2.309114740 , Training accuracy= 0.112345 , Validation accuracy= 0.1126\n",
      "Epoch:  07 , Loss= 2.309088602 , Training accuracy= 0.112345 , Validation accuracy= 0.1126\n",
      "Epoch:  08 , Loss= 2.308952111 , Training accuracy= 0.112345 , Validation accuracy= 0.1126\n",
      "Epoch:  09 , Loss= 2.308398287 , Training accuracy= 0.112345 , Validation accuracy= 0.1126\n",
      "Epoch:  10 , Loss= 2.307952179 , Training accuracy= 0.112345 , Validation accuracy= 0.1126\n",
      "Epoch:  11 , Loss= 2.307949162 , Training accuracy= 0.112345 , Validation accuracy= 0.1126\n",
      "Epoch:  12 , Loss= 2.307641020 , Training accuracy= 0.112345 , Validation accuracy= 0.1126\n",
      "Epoch:  13 , Loss= 2.307400164 , Training accuracy= 0.112345 , Validation accuracy= 0.1126\n",
      "Epoch:  14 , Loss= 2.307225195 , Training accuracy= 0.102509 , Validation accuracy= 0.0986\n"
     ]
    },
    {
     "ename": "KeyboardInterrupt",
     "evalue": "",
     "output_type": "error",
     "traceback": [
      "\u001b[0;31m\u001b[0m",
      "\u001b[0;31mKeyboardInterrupt\u001b[0mTraceback (most recent call last)",
      "\u001b[0;32m<ipython-input-66-3510d8c0ea90>\u001b[0m in \u001b[0;36m<module>\u001b[0;34m()\u001b[0m\n\u001b[1;32m      2\u001b[0m mnist_dropout = NeuralNetwork(LR=0.1, Iter=100, Batchsize=128, \n\u001b[1;32m      3\u001b[0m                          Optimizer=tf.train.GradientDescentOptimizer, IsDropOut=True, Activation=tf.nn.sigmoid)\n\u001b[0;32m----> 4\u001b[0;31m \u001b[0mmnist_dropout\u001b[0m\u001b[0;34m.\u001b[0m\u001b[0mtrain\u001b[0m\u001b[0;34m(\u001b[0m\u001b[0mX_train\u001b[0m\u001b[0;34m,\u001b[0m \u001b[0my_train\u001b[0m\u001b[0;34m,\u001b[0m \u001b[0mX_validation\u001b[0m\u001b[0;34m,\u001b[0m \u001b[0my_validation\u001b[0m\u001b[0;34m)\u001b[0m\u001b[0;34m\u001b[0m\u001b[0m\n\u001b[0m",
      "\u001b[0;32m<ipython-input-65-ce2f71954911>\u001b[0m in \u001b[0;36mtrain\u001b[0;34m(self, X_train, y_train, X_validation, y_validation)\u001b[0m\n\u001b[1;32m    176\u001b[0m                     \u001b[0;32melse\u001b[0m\u001b[0;34m:\u001b[0m\u001b[0;34m\u001b[0m\u001b[0m\n\u001b[1;32m    177\u001b[0m                         _, c = sess.run([self.tfoptimizer, self.cost], \n\u001b[0;32m--> 178\u001b[0;31m                                                  feed_dict={x: batch_x, y: batch_y, keep_prob: 0.75})\n\u001b[0m\u001b[1;32m    179\u001b[0m                     \u001b[0;31m# Write logs at every iteration\u001b[0m\u001b[0;34m\u001b[0m\u001b[0;34m\u001b[0m\u001b[0m\n\u001b[1;32m    180\u001b[0m \u001b[0;31m#                     summary_writer.add_summary(summary, epoch * total_batch + i)\u001b[0m\u001b[0;34m\u001b[0m\u001b[0;34m\u001b[0m\u001b[0m\n",
      "\u001b[0;32m/usr/local/lib/python2.7/dist-packages/tensorflow/python/client/session.pyc\u001b[0m in \u001b[0;36mrun\u001b[0;34m(self, fetches, feed_dict, options, run_metadata)\u001b[0m\n\u001b[1;32m    765\u001b[0m     \u001b[0;32mtry\u001b[0m\u001b[0;34m:\u001b[0m\u001b[0;34m\u001b[0m\u001b[0m\n\u001b[1;32m    766\u001b[0m       result = self._run(None, fetches, feed_dict, options_ptr,\n\u001b[0;32m--> 767\u001b[0;31m                          run_metadata_ptr)\n\u001b[0m\u001b[1;32m    768\u001b[0m       \u001b[0;32mif\u001b[0m \u001b[0mrun_metadata\u001b[0m\u001b[0;34m:\u001b[0m\u001b[0;34m\u001b[0m\u001b[0m\n\u001b[1;32m    769\u001b[0m         \u001b[0mproto_data\u001b[0m \u001b[0;34m=\u001b[0m \u001b[0mtf_session\u001b[0m\u001b[0;34m.\u001b[0m\u001b[0mTF_GetBuffer\u001b[0m\u001b[0;34m(\u001b[0m\u001b[0mrun_metadata_ptr\u001b[0m\u001b[0;34m)\u001b[0m\u001b[0;34m\u001b[0m\u001b[0m\n",
      "\u001b[0;32m/usr/local/lib/python2.7/dist-packages/tensorflow/python/client/session.pyc\u001b[0m in \u001b[0;36m_run\u001b[0;34m(self, handle, fetches, feed_dict, options, run_metadata)\u001b[0m\n\u001b[1;32m    963\u001b[0m     \u001b[0;32mif\u001b[0m \u001b[0mfinal_fetches\u001b[0m \u001b[0;32mor\u001b[0m \u001b[0mfinal_targets\u001b[0m\u001b[0;34m:\u001b[0m\u001b[0;34m\u001b[0m\u001b[0m\n\u001b[1;32m    964\u001b[0m       results = self._do_run(handle, final_targets, final_fetches,\n\u001b[0;32m--> 965\u001b[0;31m                              feed_dict_string, options, run_metadata)\n\u001b[0m\u001b[1;32m    966\u001b[0m     \u001b[0;32melse\u001b[0m\u001b[0;34m:\u001b[0m\u001b[0;34m\u001b[0m\u001b[0m\n\u001b[1;32m    967\u001b[0m       \u001b[0mresults\u001b[0m \u001b[0;34m=\u001b[0m \u001b[0;34m[\u001b[0m\u001b[0;34m]\u001b[0m\u001b[0;34m\u001b[0m\u001b[0m\n",
      "\u001b[0;32m/usr/local/lib/python2.7/dist-packages/tensorflow/python/client/session.pyc\u001b[0m in \u001b[0;36m_do_run\u001b[0;34m(self, handle, target_list, fetch_list, feed_dict, options, run_metadata)\u001b[0m\n\u001b[1;32m   1013\u001b[0m     \u001b[0;32mif\u001b[0m \u001b[0mhandle\u001b[0m \u001b[0;32mis\u001b[0m \u001b[0mNone\u001b[0m\u001b[0;34m:\u001b[0m\u001b[0;34m\u001b[0m\u001b[0m\n\u001b[1;32m   1014\u001b[0m       return self._do_call(_run_fn, self._session, feed_dict, fetch_list,\n\u001b[0;32m-> 1015\u001b[0;31m                            target_list, options, run_metadata)\n\u001b[0m\u001b[1;32m   1016\u001b[0m     \u001b[0;32melse\u001b[0m\u001b[0;34m:\u001b[0m\u001b[0;34m\u001b[0m\u001b[0m\n\u001b[1;32m   1017\u001b[0m       return self._do_call(_prun_fn, self._session, handle, feed_dict,\n",
      "\u001b[0;32m/usr/local/lib/python2.7/dist-packages/tensorflow/python/client/session.pyc\u001b[0m in \u001b[0;36m_do_call\u001b[0;34m(self, fn, *args)\u001b[0m\n\u001b[1;32m   1020\u001b[0m   \u001b[0;32mdef\u001b[0m \u001b[0m_do_call\u001b[0m\u001b[0;34m(\u001b[0m\u001b[0mself\u001b[0m\u001b[0;34m,\u001b[0m \u001b[0mfn\u001b[0m\u001b[0;34m,\u001b[0m \u001b[0;34m*\u001b[0m\u001b[0margs\u001b[0m\u001b[0;34m)\u001b[0m\u001b[0;34m:\u001b[0m\u001b[0;34m\u001b[0m\u001b[0m\n\u001b[1;32m   1021\u001b[0m     \u001b[0;32mtry\u001b[0m\u001b[0;34m:\u001b[0m\u001b[0;34m\u001b[0m\u001b[0m\n\u001b[0;32m-> 1022\u001b[0;31m       \u001b[0;32mreturn\u001b[0m \u001b[0mfn\u001b[0m\u001b[0;34m(\u001b[0m\u001b[0;34m*\u001b[0m\u001b[0margs\u001b[0m\u001b[0;34m)\u001b[0m\u001b[0;34m\u001b[0m\u001b[0m\n\u001b[0m\u001b[1;32m   1023\u001b[0m     \u001b[0;32mexcept\u001b[0m \u001b[0merrors\u001b[0m\u001b[0;34m.\u001b[0m\u001b[0mOpError\u001b[0m \u001b[0;32mas\u001b[0m \u001b[0me\u001b[0m\u001b[0;34m:\u001b[0m\u001b[0;34m\u001b[0m\u001b[0m\n\u001b[1;32m   1024\u001b[0m       \u001b[0mmessage\u001b[0m \u001b[0;34m=\u001b[0m \u001b[0mcompat\u001b[0m\u001b[0;34m.\u001b[0m\u001b[0mas_text\u001b[0m\u001b[0;34m(\u001b[0m\u001b[0me\u001b[0m\u001b[0;34m.\u001b[0m\u001b[0mmessage\u001b[0m\u001b[0;34m)\u001b[0m\u001b[0;34m\u001b[0m\u001b[0m\n",
      "\u001b[0;32m/usr/local/lib/python2.7/dist-packages/tensorflow/python/client/session.pyc\u001b[0m in \u001b[0;36m_run_fn\u001b[0;34m(session, feed_dict, fetch_list, target_list, options, run_metadata)\u001b[0m\n\u001b[1;32m   1002\u001b[0m         return tf_session.TF_Run(session, options,\n\u001b[1;32m   1003\u001b[0m                                  \u001b[0mfeed_dict\u001b[0m\u001b[0;34m,\u001b[0m \u001b[0mfetch_list\u001b[0m\u001b[0;34m,\u001b[0m \u001b[0mtarget_list\u001b[0m\u001b[0;34m,\u001b[0m\u001b[0;34m\u001b[0m\u001b[0m\n\u001b[0;32m-> 1004\u001b[0;31m                                  status, run_metadata)\n\u001b[0m\u001b[1;32m   1005\u001b[0m \u001b[0;34m\u001b[0m\u001b[0m\n\u001b[1;32m   1006\u001b[0m     \u001b[0;32mdef\u001b[0m \u001b[0m_prun_fn\u001b[0m\u001b[0;34m(\u001b[0m\u001b[0msession\u001b[0m\u001b[0;34m,\u001b[0m \u001b[0mhandle\u001b[0m\u001b[0;34m,\u001b[0m \u001b[0mfeed_dict\u001b[0m\u001b[0;34m,\u001b[0m \u001b[0mfetch_list\u001b[0m\u001b[0;34m)\u001b[0m\u001b[0;34m:\u001b[0m\u001b[0;34m\u001b[0m\u001b[0m\n",
      "\u001b[0;31mKeyboardInterrupt\u001b[0m: "
     ]
    }
   ],
   "source": [
    "# your implementaion goas here\n",
    "mnist_dropout = NeuralNetwork(LR=0.1, Iter=100, Batchsize=128, \n",
    "                         Optimizer=tf.train.GradientDescentOptimizer, IsDropOut=True, Activation=tf.nn.sigmoid)\n",
    "mnist_dropout.train(X_train, y_train, X_validation, y_validation)"
   ]
  },
  {
   "cell_type": "code",
   "execution_count": null,
   "metadata": {
    "collapsed": true,
    "deletable": true,
    "editable": true
   },
   "outputs": [],
   "source": [
    "Your comments go here"
   ]
  }
 ],
 "metadata": {
  "anaconda-cloud": {},
  "kernelspec": {
   "display_name": "Python 2",
   "language": "python",
   "name": "python2"
  },
  "language_info": {
   "codemirror_mode": {
    "name": "ipython",
    "version": 2
   },
   "file_extension": ".py",
   "mimetype": "text/x-python",
   "name": "python",
   "nbconvert_exporter": "python",
   "pygments_lexer": "ipython2",
   "version": "2.7.6"
  },
  "widgets": {
   "state": {},
   "version": "1.1.2"
  }
 },
 "nbformat": 4,
 "nbformat_minor": 0
}
